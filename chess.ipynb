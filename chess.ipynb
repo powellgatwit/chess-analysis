{
 "cells": [
  {
   "cell_type": "markdown",
   "metadata": {},
   "source": [
    "# Chess Games Analysis\n",
    "\n",
    "## Table of contents\n",
    "1. Downloading data\n",
    "2. Create DataFrame\n",
    "3. Clean data\n",
    "4. Add functional columns\n",
    "5. Create graphs that show games played, performance, etc.\n",
    "6. Train a model?????"
   ]
  },
  {
   "cell_type": "code",
   "execution_count": 98,
   "metadata": {},
   "outputs": [],
   "source": [
    "import numpy as np\n",
    "import pandas as pd\n",
    "import matplotlib as mpl\n",
    "import matplotlib.pyplot as plt\n",
    "import seaborn as sns\n",
    "\n",
    "# date-time formatting\n",
    "from datetime import datetime\n",
    "import pytz\n",
    "\n",
    "# lichess python api\n",
    "import berserk as bk\n",
    "\n",
    "AUTH_TOKEN = ''\n",
    "\n",
    "session = bk.TokenSession(AUTH_TOKEN)\n",
    "client = bk.Client(session=session)"
   ]
  },
  {
   "cell_type": "markdown",
   "metadata": {},
   "source": [
    "## Download data from lichess.org\n",
    "\n",
    "Returns 'iterators'. Put the data from the iterators into lists and combine them."
   ]
  },
  {
   "cell_type": "code",
   "execution_count": 109,
   "metadata": {},
   "outputs": [
    {
     "data": {
      "text/plain": [
       "832"
      ]
     },
     "execution_count": 109,
     "metadata": {},
     "output_type": "execute_result"
    }
   ],
   "source": [
    "# get the 'iterator' objects from Lichess.org\n",
    "pgames = client.games.export_by_player('powellgatwit')\n",
    "usgames = client.games.export_by_player('US2985063')\n",
    "\n",
    "# iterate into lists\n",
    "powellg_games = [x for x in pgames]\n",
    "us_games = [x for x in usgames]\n",
    "\n",
    "# combine the two lists\n",
    "powellg_games.extend(us_games)\n",
    "len(powellg_games)"
   ]
  },
  {
   "cell_type": "markdown",
   "metadata": {},
   "source": [
    "## Create DataFrame from list\n",
    "\n",
    "And drop some unnecessary columns"
   ]
  },
  {
   "cell_type": "code",
   "execution_count": 111,
   "metadata": {},
   "outputs": [
    {
     "name": "stdout",
     "output_type": "stream",
     "text": [
      "(832, 10)\n"
     ]
    }
   ],
   "source": [
    "# create dataframe of all games\n",
    "g = pd.DataFrame.from_dict(powellg_games)\n",
    "\n",
    "# don't need 'tournament' or 'variant' columns. all are NaN and standard\n",
    "g = g.drop(columns=['tournament', 'variant', 'rated'])\n",
    "\n",
    "# (games, columns)\n",
    "print(g.shape)"
   ]
  },
  {
   "cell_type": "markdown",
   "metadata": {},
   "source": [
    "## Adding 'tie' fields"
   ]
  },
  {
   "cell_type": "code",
   "execution_count": 112,
   "metadata": {},
   "outputs": [
    {
     "data": {
      "text/plain": [
       "black    412\n",
       "white    372\n",
       "tie       48\n",
       "Name: winner, dtype: int64"
      ]
     },
     "execution_count": 112,
     "metadata": {},
     "output_type": "execute_result"
    }
   ],
   "source": [
    "# currently, stalemates or draws are NaN under 'winner'\n",
    "# fix that\n",
    "non_wins = {\"winner\": 'tie'}\n",
    "g = g.fillna(non_wins)\n",
    "# check\n",
    "g['winner'].value_counts()"
   ]
  },
  {
   "cell_type": "markdown",
   "metadata": {},
   "source": [
    "## Convert 'datetime' format to dates and times\n",
    "\n",
    "And change timezone to EST"
   ]
  },
  {
   "cell_type": "code",
   "execution_count": 113,
   "metadata": {},
   "outputs": [
    {
     "data": {
      "text/plain": [
       "0    2021-12-13\n",
       "1    2021-12-13\n",
       "2    2021-12-13\n",
       "3    2021-12-13\n",
       "4    2021-12-13\n",
       "Name: date, dtype: object"
      ]
     },
     "execution_count": 113,
     "metadata": {},
     "output_type": "execute_result"
    }
   ],
   "source": [
    "# game start time is in 'datetime64' format\n",
    "g['createdAt'].dtypes\n",
    "\n",
    "# let's change it to something more usable: date column and time column\n",
    "\n",
    "# convert to EST\n",
    "g['createdAt'] = g['createdAt'].dt.tz_convert('EST')\n",
    "\n",
    "# add date and time columns\n",
    "g['date'] = g['createdAt'].dt.date\n",
    "g['time'] = g['createdAt'].dt.time\n",
    "\n",
    "g['date'].head(5)"
   ]
  },
  {
   "cell_type": "markdown",
   "metadata": {},
   "source": [
    "## Fix 'players' column, expand the json"
   ]
  },
  {
   "cell_type": "code",
   "execution_count": 114,
   "metadata": {},
   "outputs": [
    {
     "data": {
      "text/html": [
       "<div>\n",
       "<style scoped>\n",
       "    .dataframe tbody tr th:only-of-type {\n",
       "        vertical-align: middle;\n",
       "    }\n",
       "\n",
       "    .dataframe tbody tr th {\n",
       "        vertical-align: top;\n",
       "    }\n",
       "\n",
       "    .dataframe thead th {\n",
       "        text-align: right;\n",
       "    }\n",
       "</style>\n",
       "<table border=\"1\" class=\"dataframe\">\n",
       "  <thead>\n",
       "    <tr style=\"text-align: right;\">\n",
       "      <th></th>\n",
       "      <th>white.user.name</th>\n",
       "      <th>white.user.id</th>\n",
       "      <th>white.rating</th>\n",
       "      <th>white.ratingDiff</th>\n",
       "      <th>black.user.name</th>\n",
       "      <th>black.user.patron</th>\n",
       "      <th>black.user.id</th>\n",
       "      <th>black.rating</th>\n",
       "      <th>black.ratingDiff</th>\n",
       "      <th>white.user.patron</th>\n",
       "      <th>white.provisional</th>\n",
       "      <th>black.provisional</th>\n",
       "    </tr>\n",
       "  </thead>\n",
       "  <tbody>\n",
       "    <tr>\n",
       "      <th>0</th>\n",
       "      <td>robertaitis</td>\n",
       "      <td>robertaitis</td>\n",
       "      <td>1229</td>\n",
       "      <td>7.0</td>\n",
       "      <td>powellgatwit</td>\n",
       "      <td>True</td>\n",
       "      <td>powellgatwit</td>\n",
       "      <td>1255</td>\n",
       "      <td>-10.0</td>\n",
       "      <td>NaN</td>\n",
       "      <td>NaN</td>\n",
       "      <td>NaN</td>\n",
       "    </tr>\n",
       "    <tr>\n",
       "      <th>1</th>\n",
       "      <td>powellgatwit</td>\n",
       "      <td>powellgatwit</td>\n",
       "      <td>1247</td>\n",
       "      <td>8.0</td>\n",
       "      <td>AlexAlmogavar</td>\n",
       "      <td>NaN</td>\n",
       "      <td>alexalmogavar</td>\n",
       "      <td>1188</td>\n",
       "      <td>-4.0</td>\n",
       "      <td>True</td>\n",
       "      <td>NaN</td>\n",
       "      <td>NaN</td>\n",
       "    </tr>\n",
       "    <tr>\n",
       "      <th>2</th>\n",
       "      <td>powellgatwit</td>\n",
       "      <td>powellgatwit</td>\n",
       "      <td>1238</td>\n",
       "      <td>9.0</td>\n",
       "      <td>cleitonrose</td>\n",
       "      <td>NaN</td>\n",
       "      <td>cleitonrose</td>\n",
       "      <td>1220</td>\n",
       "      <td>-5.0</td>\n",
       "      <td>True</td>\n",
       "      <td>NaN</td>\n",
       "      <td>NaN</td>\n",
       "    </tr>\n",
       "  </tbody>\n",
       "</table>\n",
       "</div>"
      ],
      "text/plain": [
       "  white.user.name white.user.id  white.rating  white.ratingDiff  \\\n",
       "0     robertaitis   robertaitis          1229               7.0   \n",
       "1    powellgatwit  powellgatwit          1247               8.0   \n",
       "2    powellgatwit  powellgatwit          1238               9.0   \n",
       "\n",
       "  black.user.name black.user.patron  black.user.id  black.rating  \\\n",
       "0    powellgatwit              True   powellgatwit          1255   \n",
       "1   AlexAlmogavar               NaN  alexalmogavar          1188   \n",
       "2     cleitonrose               NaN    cleitonrose          1220   \n",
       "\n",
       "   black.ratingDiff white.user.patron white.provisional black.provisional  \n",
       "0             -10.0               NaN               NaN               NaN  \n",
       "1              -4.0              True               NaN               NaN  \n",
       "2              -5.0              True               NaN               NaN  "
      ]
     },
     "execution_count": 114,
     "metadata": {},
     "output_type": "execute_result"
    }
   ],
   "source": [
    "# the 'players' column are still blocks of json (markup language)\n",
    "players = pd.json_normalize(g['players'])\n",
    "players.head(3)"
   ]
  },
  {
   "cell_type": "code",
   "execution_count": 115,
   "metadata": {},
   "outputs": [
    {
     "data": {
      "text/plain": [
       "Index(['id', 'speed', 'perf', 'createdAt', 'status', 'winner', 'moves',\n",
       "       'clock', 'date', 'time', 'white.user.name', 'white.rating',\n",
       "       'white.ratingDiff', 'black.user.name', 'black.rating',\n",
       "       'black.ratingDiff'],\n",
       "      dtype='object')"
      ]
     },
     "execution_count": 115,
     "metadata": {},
     "output_type": "execute_result"
    }
   ],
   "source": [
    "# combine our 'games' dataframe and our 'players' dataframe\n",
    "games = pd.merge(g, players, left_index=True, right_index=True)\n",
    "\n",
    "# and remove all unnecessary columns\n",
    "games = games.drop(columns=['players', 'lastMoveAt', 'white.user.id', 'black.user.id', 'black.user.patron', 'white.user.patron', 'white.provisional', 'black.provisional'])\n",
    "\n",
    "games.columns"
   ]
  },
  {
   "cell_type": "markdown",
   "metadata": {},
   "source": [
    "## Add columns for me-specific data\n",
    "\n",
    "Did I win or lose the game, how much rating did I gain or lose, am I white or black, etc."
   ]
  },
  {
   "cell_type": "code",
   "execution_count": 153,
   "metadata": {},
   "outputs": [
    {
     "data": {
      "text/plain": [
       "Index(['id', 'speed', 'perf', 'createdAt', 'status', 'winner', 'moves',\n",
       "       'clock', 'date', 'time', 'white.user.name', 'white.rating',\n",
       "       'white.ratingDiff', 'black.user.name', 'black.rating',\n",
       "       'black.ratingDiff', 'george_white', 'george_black', 'george_won',\n",
       "       'george_lost', 'gain_loss'],\n",
       "      dtype='object')"
      ]
     },
     "execution_count": 153,
     "metadata": {},
     "output_type": "execute_result"
    }
   ],
   "source": [
    "### did i win or lose each game?\n",
    "\n",
    "# find times i played with white pieces\n",
    "georgeiswhite = (games['white.user.name'] == 'powellgatwit') | (games['white.user.name'] =='US2985063')\n",
    "\n",
    "# and times i played with black pieces\n",
    "georgeisblack = georgeiswhite != True\n",
    "\n",
    "games['george_white'] = georgeiswhite\n",
    "games['george_black'] = georgeisblack\n",
    "\n",
    "# times i won, and times i lost\n",
    "georgewon = (games['george_white'] & (games['winner'] == 'white')) | (games['george_black'] & (games['winner'] == 'black'))\n",
    "\n",
    "games['george_won'] = georgewon\n",
    "games['george_lost'] = np.invert(georgewon)\n",
    "\n",
    "# how much rating i gained or lost for each game\n",
    "elodiff_w = (games['white.ratingDiff'][georgeiswhite]) # if i was white\n",
    "elodiff_b = (games['black.ratingDiff'][georgeisblack]) # if i was black\n",
    "\n",
    "elodiff = pd.concat([elodiff_w, elodiff_b])\n",
    "elodiff.sort_index()\n",
    "\n",
    "games['gain_loss'] = elodiff\n",
    "\n",
    "games.columns"
   ]
  },
  {
   "cell_type": "markdown",
   "metadata": {},
   "source": [
    "## Statistics"
   ]
  },
  {
   "cell_type": "code",
   "execution_count": 149,
   "metadata": {},
   "outputs": [
    {
     "name": "stdout",
     "output_type": "stream",
     "text": [
      "Number of games played:  832\n",
      "Total games (won, lost):  390 442\n",
      "Total winrate:  46.875\n",
      "Average rating change:  -2.1472019464720193\n",
      "Times played as (white, black) 408 424\n"
     ]
    }
   ],
   "source": [
    "print(\"Number of games played: \", len(games))\n",
    "print(\"Total games (won, lost): \", games['george_won'].sum(), games['george_lost'].sum())\n",
    "print(\"Total winrate: \", np.round((games['george_won'].sum() / games['id'].count()), 6) * 100)\n,
    "print(\"Average rating change: \", games['gain_loss'].mean())\n",
    "print(\"Times played as (white, black)\", georgeiswhite.sum(), georgeisblack.sum())"
   ]
  },
  {
   "cell_type": "markdown",
   "metadata": {},
   "source": [
    "## Charts and graphs\n",
    "\n",
    "1. Total games played / month\n",
    "2. Total games won / month\n",
    "3. Total rating change by month\n",
    "4. Total games played / hour\n",
    "5. Total games won / hour\n",
    "6. Total rating change / hour\n",
    "7. Average rating change / hour played"
   ]
  },
  {
   "cell_type": "code",
   "execution_count": 141,
   "metadata": {},
   "outputs": [
    {
     "data": {
      "text/plain": [
       "Text(0.5, 1.0, 'Total games played per month')"
      ]
     },
     "execution_count": 141,
     "metadata": {},
     "output_type": "execute_result"
    },
    {
     "data": {
      "image/png": "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",
      "text/plain": [
       "<Figure size 432x288 with 1 Axes>"
      ]
     },
     "metadata": {
      "needs_background": "light"
     },
     "output_type": "display_data"
    }
   ],
   "source": [
    "games['george_won'].groupby(games[\"createdAt\"].dt.month).count().plot(kind=\"bar\").set_title('Total games played per month')"
   ]
  },
  {
   "cell_type": "code",
   "execution_count": 135,
   "metadata": {},
   "outputs": [
    {
     "data": {
      "text/plain": [
       "Text(0.5, 1.0, 'Total games won per month')"
      ]
     },
     "execution_count": 135,
     "metadata": {},
     "output_type": "execute_result"
    },
    {
     "data": {
      "image/png": "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",
      "text/plain": [
       "<Figure size 432x288 with 1 Axes>"
      ]
     },
     "metadata": {
      "needs_background": "light"
     },
     "output_type": "display_data"
    }
   ],
   "source": [
    "games.groupby(games[\"createdAt\"].dt.month).george_won.sum().plot(kind=\"bar\").set_title('Total games won per month')"
   ]
  },
  {
   "cell_type": "code",
   "execution_count": 131,
   "metadata": {},
   "outputs": [
    {
     "data": {
      "text/plain": [
       "Text(0.5, 1.0, 'Total rating change per month')"
      ]
     },
     "execution_count": 131,
     "metadata": {},
     "output_type": "execute_result"
    },
    {
     "data": {
      "image/png": "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",
      "text/plain": [
       "<Figure size 432x288 with 1 Axes>"
      ]
     },
     "metadata": {
      "needs_background": "light"
     },
     "output_type": "display_data"
    }
   ],
   "source": [
    "# group by month, get sum of rating gain or loss\n",
    "games.groupby(games[\"createdAt\"].dt.month).gain_loss.sum().plot(kind='bar').set_title('Total rating change per month')\n",
    "\n",
    "# group by month, get mean of rating gain or loss\n",
    "# games.groupby(games[\"createdAt\"].dt.month).gain_loss.mean().plot(kind='bar').set_title('Average rating change per month')"
   ]
  },
  {
   "cell_type": "code",
   "execution_count": 140,
   "metadata": {},
   "outputs": [
    {
     "data": {
      "text/plain": [
       "Text(0.5, 1.0, 'Total games played / hour')"
      ]
     },
     "execution_count": 140,
     "metadata": {},
     "output_type": "execute_result"
    },
    {
     "data": {
      "image/png": "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",
      "text/plain": [
       "<Figure size 432x288 with 1 Axes>"
      ]
     },
     "metadata": {
      "needs_background": "light"
     },
     "output_type": "display_data"
    }
   ],
   "source": [
    "# games won / hour played\n",
    "games.groupby(games[\"createdAt\"].dt.hour).george_won.count().plot(kind=\"bar\").set_title('Total games played / hour')"
   ]
  },
  {
   "cell_type": "code",
   "execution_count": 137,
   "metadata": {},
   "outputs": [
    {
     "data": {
      "text/plain": [
       "Text(0.5, 1.0, 'Total games won / hour')"
      ]
     },
     "execution_count": 137,
     "metadata": {},
     "output_type": "execute_result"
    },
    {
     "data": {
      "image/png": "iVBORw0KGgoAAAANSUhEUgAAAXAAAAEZCAYAAACO4n6tAAAAOXRFWHRTb2Z0d2FyZQBNYXRwbG90bGliIHZlcnNpb24zLjUuMCwgaHR0cHM6Ly9tYXRwbG90bGliLm9yZy8/fFQqAAAACXBIWXMAAAsTAAALEwEAmpwYAAAZ4ElEQVR4nO3de5xdVX338c+Xm0LDJSHTEC4hlutDtQQ7RBQvEbAGkIIt9jFQRF/QtFquxUqqVMPzUI3Pq2J9KtIGuYmC3EQQBUGuVW4GCLmQILcECCEkAkKqogm//rHWwOYwZ86eOTNzsjLf9+u1X7P32nvt/TvnzPmdddbZe21FBGZmVp4NOh2AmZkNjBO4mVmhnMDNzArlBG5mVigncDOzQjmBm5kVygnchoSkkLRzp+NYX0m6VdKxnY7DOssJfISRtLoyvSLpN5XlI5vUmSLpqeGO1UDSQ5J27XQctm7aqNMB2PCKiFE985KWAMdGxE86F5E1I2knYMOI+EUHY9goItZ06vjWN7fADQBJb5L0b5KeztO/5bI/AK4Dtq201LeVNFnSnZJekLRc0tclbVLzWG+RdLuklyT9RNJZkr5dWX+5pGck/Spv98eVdRdI+oak63IsP5O0TY73eUmLJe1V2X5bSVdKWinpcUknVNZNljRH0ouSVkg6s0m8t0n6yzy/b+4eOjgv7y9pbp7fQNJpkpZKelbStyRtmddNzPWOlvSEpFWSPtfiqToY+FEf63fMj/8lSTdIGluJ+c8lLcyvz62S/ldl3eu6t/JzekaenyLpKUmnSnoGOL9FjNZBTuDW43PAPsAkYE9gMnBaRPw3cCDwdESMytPTwFrgZGAs8E5gf+BTNY91MXAPsDUwEziqYf11wC7AHwL3Ad9pWP9XwGn52C8Dd+btxgJXAGdCSqjAD4AHgO1yjCdJ+mDez9eAr0XEFsBOwGVN4r0NmJLn3wc8Bry3snxbnv94nt4P/BEwCvh6w77eDeyWY/l8NbH24iDgh32sPwL4BOl52gT4NEDucrkEOAnoIn0I/KDuByywDTAG2BGYXrOOdUJEeBqhE7AEOCDPPwocVFn3QWBJnp8CPNViXycBV1WWA9i5l+0mAGuAzSpl3wa+3WS/W+V9bZmXLwDOqaw/HlhUWX4b8EKefwfwRMP+/gk4P8/fDpwOjG3x2PYH5uX564Fjgbvy8m3AX+T5m4BPVertBvye1FU5MT+O7Svr7wE+2uSYmwG/BN7UZP2tpA/YnuVPAdfn+X8GLqus2wBYBkzp7bXJz+kZldf6d8CbO/3/6an15Ba49dgWWFpZXprLeiVpV0nX5q6OF4EvklrAdY7zXET8ulL2ZGW/G0qaJenRvN8leVV13ysq87/pZbmnn39HUtfPCz0T8FlgXF5/DLArsFjSzyV9qEnMdwK7ShpH+obyLWCH3GUxmfRB0PPYGp/DjSrHA3imMv/rSqyN9gfuiIiXm6zva1+viyMiXiE9x9v1sa+qlRHx25rbWgc5gVuPp0kJr8eEXAapxdbobGAxsEukLojPAqpxnOXAGEmbVcp2qMwfARwKHABsSWq5UnPfjZ4EHo+IrSrT5hFxEEBEPBwR00hdEF8Grsh9/q+TP2zuBU4EFkTE74A7gH8AHo2IVXnT3p7DNbz+A6aug+i7/7svr4tDkkjP8bJc9GtSC7/HNg31PURpIZzArcclwGmSunLL8vOkrg1ICWjrnh/kss2BF4HVknYHPlnnIBGxFJgDzJS0iaR3Aoc07PdlUvfBZqSW/UDdA7yUf5DbNLfu3yppbwBJfy2pK7dQX8h1Xmmyr9uA43itv/vWhmVIz+HJ+UfaUTn2S2NgZ3EcSN/93325DDg4/8C6MXAK6Tm9I6+fCxyRn4+ppH58K5ATuPU4g5RY5wHzST8KngEQEYtJyemx3BWxLekHsyOAl4BzgEv7cawjST98/jIf41JSgoHUPbGU1Fp8ELhroA8oItYCHyJ1ezwOrAK+SWrZA0wFFkpaTfpB86MR8Zsmu7uN9OFye5NlgPOAi3LZ48BvSX30/SLprcDqiHiiv3UBIuIh4K+Bfyc95kOAQ/I3B0jfJA4hfWgdCXx/IMexzlOEvy1ZZ0m6FFgcEV/odCzrAkmfIf2w+plOx2LrNrfAbdhJ2lvSTvm86amkPu/vdzisdckSfP611eArMa0TtgG+RzoP/CngkxFxf2dDWndERLPz0c1ex10oZmaFcheKmVmhnMDNzAo1rH3gY8eOjYkTJw7nIc3MinfvvfeuioiuxvJhTeATJ05kzpw5w3lIM7PiSVraW7m7UMzMCuUEbmZWKCdwM7NCOYGbmRXKCdzMrFAtE7ikN0u6R9ID+R57p+fyC/I9BufmadKQR2tmZq+qcxrhy8B+EbE6jy38U0nX5XX/GBFXDF14ZmbWTMsEHmmwlNV5ceM8eQAVM7MOq3Uhj6QNSbeU2hk4KyLulvRJ4F8kfZ50M9cZvd2/T9J08p2tJ0yYMGiBm9nINXFG3zcrWjLr4GGKpLNq/YgZEWsjYhKwPTA53zHkn4Ddgb2BMcCpTerOjojuiOju6nrDlaBmZjZA/ToLJSJeAG4BpkbE8kheJg0+P3kI4jMzsybqnIXSJWmrPL8p8AFgsaTxuUzAYcCCoQvTzMwa1ekDHw9cmPvBNwAui4hrJd0sqQsQ6S7Xfzd0YZqZWaM6Z6HMA/bqpXy/IYnIzMxq8ZWYZmaFcgI3MyuUE7iZWaGcwM3MCuUEbmZWKCdwM7NCDetNjc1s3eCxRNYPboGbmRXKCdzMrFBO4GZmhXICNzMrlBO4mVmhnMDNzArlBG5mVigncDOzQjmBm5kVygnczKxQTuBmZoXyWChm1m8eS2Xd4Ba4mVmhWiZwSW+WdI+kByQtlHR6Ln+LpLslPSLpUkmbDH24ZmbWo04L/GVgv4jYE5gETJW0D/Bl4KsRsTPwPHDMkEVpZmZv0DKBR7I6L26cpwD2A67I5RcChw1FgGZm1rtafeCSNpQ0F3gWuBF4FHghItbkTZ4CthuSCM3MrFe1EnhErI2IScD2wGRg97oHkDRd0hxJc1auXDmwKM3M7A36dRZKRLwA3AK8E9hKUs9piNsDy5rUmR0R3RHR3dXV1U6sZmZWUecslC5JW+X5TYEPAItIifzwvNnRwNVDFKOZmfWizoU844ELJW1ISviXRcS1kh4EvivpDOB+4NwhjNPMzBq0TOARMQ/Yq5fyx0j94WZm1gG+EtPMrFBO4GZmhXICNzMrlBO4mVmhnMDNzArlBG5mVijf0MGK5BsKmLkFbmZWLCdwM7NCOYGbmRXKCdzMrFBO4GZmhfJZKGY24qwvZzG5BW5mVigncDOzQjmBm5kVygnczKxQTuBmZoVyAjczK5QTuJlZoZzAzcwK1TKBS9pB0i2SHpS0UNKJuXympGWS5ubpoKEP18zMetS5EnMNcEpE3Cdpc+BeSTfmdV+NiH8duvDMzKyZlgk8IpYDy/P8S5IWAdsNdWBmZta3fo2FImkisBdwN7AvcJykjwFzSK3053upMx2YDjBhwoR24zVbL6wvY3GMVOvK61f7R0xJo4ArgZMi4kXgbGAnYBKphf6V3upFxOyI6I6I7q6urvYjNjMzoGYCl7QxKXl/JyK+BxARKyJibUS8ApwDTB66MM3MrFGds1AEnAssiogzK+XjK5t9GFgw+OGZmVkzdfrA9wWOAuZLmpvLPgtMkzQJCGAJ8LdDEJ+ZmTVR5yyUnwLqZdWPBj8cMzOry3fkMSvQunIWhHWWL6U3MyuUE7iZWaGcwM3MCuUEbmZWKCdwM7NCOYGbmRXKCdzMrFBO4GZmhXICNzMrlBO4mVmhnMDNzArlBG5mVigncDOzQjmBm5kVygnczKxQTuBmZoVyAjczK5TvyGMjUrt3tPEdcdrj529wuAVuZlaolglc0g6SbpH0oKSFkk7M5WMk3Sjp4fx39NCHa2ZmPeq0wNcAp0TEHsA+wN9L2gOYAdwUEbsAN+VlMzMbJi0TeEQsj4j78vxLwCJgO+BQ4MK82YXAYUMUo5mZ9aJffeCSJgJ7AXcD4yJieV71DDBucEMzM7O+1E7gkkYBVwInRcSL1XUREUA0qTdd0hxJc1auXNlWsGZm9ppaCVzSxqTk/Z2I+F4uXiFpfF4/Hni2t7oRMTsiuiOiu6urazBiNjMz6p2FIuBcYFFEnFlZdQ1wdJ4/Grh68MMzM7Nm6lzIsy9wFDBf0txc9llgFnCZpGOApcBfDUmEZmbWq5YJPCJ+CqjJ6v0HNxwzM6vLV2KamRXKCdzMrFBO4GZmhXICNzMrlBO4mVmhnMDNzArlBG5mVigncDOzQjmBm5kVygnczKxQTuBmZoVyAjczK1Sd0QjNejVxxg/7XL9k1sHDFInZyOQWuJlZoZzAzcwK5QRuZlYoJ3Azs0I5gZuZFcpnoVhH+AwWG8kG6//fLXAzs0I5gZuZFaplApd0nqRnJS2olM2UtEzS3DwdNLRhmplZozot8AuAqb2UfzUiJuXpR4MblpmZtdIygUfE7cBzwxCLmZn1Qzt94MdJmpe7WEY320jSdElzJM1ZuXJlG4czM7OqgSbws4GdgEnAcuArzTaMiNkR0R0R3V1dXQM8nJmZNRpQAo+IFRGxNiJeAc4BJg9uWGZm1sqAErik8ZXFDwMLmm1rZmZDo+WVmJIuAaYAYyU9BXwBmCJpEhDAEuBvhy5EMzPrTcsEHhHTeik+dwhiMTOzfvCVmGZmhXICNzMrlBO4mVmhnMDNzArlBG5mVigncDOzQvmOPB3ku9KYWTvcAjczK5QTuJlZoZzAzcwK5QRuZlYoJ3Azs0I5gZuZFcoJ3MysUE7gZmaFcgI3MyuUE7iZWaGcwM3MCuUEbmZWKCdwM7NCtUzgks6T9KykBZWyMZJulPRw/jt6aMM0M7NGdVrgFwBTG8pmADdFxC7ATXnZzMyGUcsEHhG3A881FB8KXJjnLwQOG9ywzMyslYH2gY+LiOV5/hlg3CDFY2ZmNbV9R56ICEnRbL2k6cB0gAkTJrR7OKvwHX3MRraBtsBXSBoPkP8+22zDiJgdEd0R0d3V1TXAw5mZWaOBJvBrgKPz/NHA1YMTjpmZ1VXnNMJLgDuB3SQ9JekYYBbwAUkPAwfkZTMzG0Yt+8AjYlqTVfsPcixmZtYPvhLTzKxQbZ+FYuXyWSxmZXML3MysUE7gZmaFcgI3MyuUE7iZWaGcwM3MCuUEbmZWKCdwM7NCOYGbmRXKCdzMrFBO4GZmhXICNzMrVEfHQml3LA6P5WFmI5lb4GZmhXICNzMrlBO4mVmhnMDNzArlBG5mVigncDOzQjmBm5kVqq3zwCUtAV4C1gJrIqJ7MIIyM7PWBuNCnvdHxKpB2I+ZmfWDu1DMzArVbgIP4AZJ90qa3tsGkqZLmiNpzsqVK9s8nJmZ9Wg3gb87It4OHAj8vaT3Nm4QEbMjojsiuru6uto8nJmZ9WgrgUfEsvz3WeAqYPJgBGVmZq0NOIFL+gNJm/fMA38GLBiswMzMrG/tnIUyDrhKUs9+Lo6I6wclKjMza2nACTwiHgP2HMRYzMysH3waoZlZoZzAzcwK5QRuZlYoJ3Azs0I5gZuZFcoJ3MysUIMxGuGINXHGD/tcv2TWwcMUiZmNRG6Bm5kVygnczKxQTuBmZoVyAjczK5QTuJlZoZzAzcwK5QRuZlYoJ3Azs0I5gZuZFcoJ3MysUE7gZmaFGtFjoXgsEzMrmVvgZmaFcgI3MytUWwlc0lRJD0l6RNKMwQrKzMxaG3ACl7QhcBZwILAHME3SHoMVmJmZ9a2dFvhk4JGIeCwifgd8Fzh0cMIyM7NWFBEDqygdDkyNiGPz8lHAOyLiuIbtpgPT8+JuwEN97HYssGpAAbl+6fVLjt31XX+o6+8YEV1vKI2IAU3A4cA3K8tHAV8f6P7yPua4/sisX3Lsru/6narfThfKMmCHyvL2uczMzIZBOwn858Aukt4iaRPgo8A1gxOWmZm1MuArMSNijaTjgB8DGwLnRcTCNuOZ7fojtn7Jsbu+63ek/oB/xDQzs87ylZhmZoVyAjczK5QTuJlZoTo6nKyk3UlXb26Xi5YB10TEomE8/nbA3RGxulI+NSKu76PeO4BFEfGipE2BGcDbgQeBL0bEr2oc+wTgqoh4cgBx95z183RE/ETSEcC7gEXA7Ij4fY19/BHwF6RTQdcCvwAujogX+xuPmXVGx1rgkk4lXX4v4J48Cbik3YGxJH2ixjYnAFcDxwMLJFWHAfhii+rnAb/O818DtgS+nMvOrxnm/wXulvRfkj4l6Y1XWTV3PnAwcKKki4CPAHcDewPfbFU5P/b/AN6c67yJlMjvkjSlH3FYJukPO3z8rTt5/OEkaUtJsyQtlvScpF9KWpTLtmpz39fV2GYLSV+SdFFuPFXXfaNG/W0knS3pLElbS5opab6kyySN71fA7Vw91OaVR78ANu6lfBPg4Tb3/USNbeYDo/L8RGAOcGJevr9F3UWV+fsa1s2tGeP9pA/QPwPOBVYC1wNHA5u3qDsv/90IWAFsmJfVs67GY++psxlwa56f0OqxV/axJTALWAw8B/yS9A1gFrBVm6/fdTW22QL4EnARcETDum+0qLsNcDZpMLatgZn5ObkMGF/j2GMapq2BJcBoYEyN+lMbnsdzgXnAxcC4GvVnAWPzfDfwGPAIsBR4X4369wGnATsN8PXpBm4Bvk364L8R+BXp2pC9atQfBfwfYGGutxK4C/h4zeP/GDgV2KbhNT0VuKFG/bc3mf4UWF6j/pX5NTiMdO3LlcCbep7bGvWvJzUcZ+TX/dT8PB4PXN2v12IgL+BgTPmNv2Mv5TsCD9WoP6/JNB94uUb9hb38U10PnEmLJAxcDnwiz58PdOf5XYGf13z8jYl/Y+DPgUuAlS3qLiB90I0GXupJGqQW9aIax55f+YcbTeUyXmBBzfiLfRO1+wYCXgEeb5h+n/8+1p/XnvSN6Yz8f38y8P06r19l/hZg78r/X8tLsnOc/wo8QfrmezKwbZ3XPde/hzQK6TTgSeDwXL4/cGeN+lcDHyddvf0PwD8DuwAXkrogW9Vvmh/6WlfZZi1wc37uGqff1Kg/t2H5c8DPSB/kdRL4/ZX5J/rad8t99WfjwZyAqaRWw3Wkk9hn5zfWI1RaKH3UXwFMyv/41WkiqW+4Vf2bgUkNZRsB3wLWtqi7JXAB8Cip6+L3pFbQbcCeNR///X2s26xF3ZPz8ZYCJwA3AeeQEvMXahz7RFLiOof0QdrzYdQF3F4z/mLfRO2+gYBT8v/q2yplj/fjf/++ZserefxFwEZ5/q6GdfP7efz3AN8AnsnP/fT+/O/28vzdX6P+Aw3LP89/NwAW16h/A/AZKt9WgHGkD+Kf1Ki/ANilybonaz7/GzSUfZz0jWJpfx4/cEZ/X7/Xbd+fjQd7yi/YPsBf5mkf8lf7GnXPBd7dZN3FNepvT6X12LBu35oxbAHsSWo1tvzq21B31zafu23JrSZgK9LgYpP7Uf+Pc53dB3j8Yt9Eg/EGyv8/l5O+sW1OjZZ3pe5TpJbnKaQPYlXW1ekCOz4///uRun++BrwPOB24qEb9N3zAka6mngqcX6P+naSuv4+QGhGH5fL3Ue8bwB09713St84fV9bV+fAfTfrNaTHwPKkLb1Euq9OFdTiwW5N1h9Wo//+AA3opn0qN7l9S99GoXsp3Bq6o+38U0eEE7qncqeFN9FzDm2h0jfodexMN6hsoJaC7gGf6UecLDVNXLt8G+FbNfUwBLiX9ljIf+BFp2OaNatT9bpuv/Z6kLrTrgN3zB8gLpA/Pd9Wo/yekbpjngZ+SGzOkb4An1Ixhd+CAxteRGt/eK/X3H4L6Bw7H8V/dvp0X0pOn3iZyl0yJ9QdSF9gUeGunYx8p9Undhg8B3yf9eHxoZV2dPuh26x/fyfqv21c7T7YnT71N1DgLaF2tX3LsI6U+bZxBtj7Ur04dvZDHyiVpXrNVpL7wdbZ+ybG7PpB++1gNEBFL8rULV0jaMe9jfa//KidwG6hxwAdJ/ZhVIv1ItS7XLzl214cVkiZFxFyAiFgt6UOkC+zeNgLqv8oJ3AbqWtLXwLmNKyTduo7XLzl214ePAWuqBRGxBviYpP8cAfVf5fHAzcwK5dEIzcwK5QRuZlYoJ3Ab0SRNkfSuAdRbImlsZfkwSZGHKO4pmyTpoMGK1ayRE7itNyQN5Ef5KaSx1Ns1jXRV4bRK2STACdyGjH/EtKJI+hjwaSBIA3KtBX4L7EUazOqsPHWRxmf/m4hYLOkQ0hCqm5CGvj2SdAXlXXkfK0lXyC0mjZU+IR/ypIj4WR5v+xLSDUDuBD4A/GlErJI0inRl3fuBH0TEbvmmG4/kYywDvhQRlw7ZE2MjUztXTXnyNJwTaQCuX/DaWNhjSKNCXstr45vfRB4kC3gHcHOeH81rDZZjga/k+ZnApyvHuJjXBlqaQB6eF/j/wOfz/MGkD5CeOI4Ezs3zd5ASO6TBtb7e6efN0/o7+TxwK8l+wOURsQogIp6TRC5bm1vC7wIuz+WQ7jYEafTAS/MdTzYhjYndmwOAPSr1t8j7fS/pFnRExA8lVS9CmUYa0AnSXaamAfe280DN6nACt/XBf+e/GwAvRMSkXrb5d+DMiLgmX7o8s8m+NgD2iYjfVgsrCZ2G8jGkD5a3SQrSsKwh6R/79xDM+s8/YlpJbgY+0nP/x5w8XxXphsyPS/pIXi9Je+bVW5L6oiHdtq7HS6TxvHvcQOoLJ+9jUp69HTgilx1I6pKBNCzuRRGxY0RMjIgdSK379/Syb7NB5QRuxYiIhcC/ALdJeoB0M4VGRwLH5PULgUNz+UxS18q9wKrK9j8APixprqT3kIYa7ZY0T9KDwN/l7U4H3itpIakr5YlcPg24qiGGK3P5LaTumLmS/vdAH7dZMz4LxcysUG6Bm5kVygnczKxQTuBmZoVyAjczK5QTuJlZoZzAzcwK5QRuZlYoJ3Azs0L9Dwpyv6OI/Nl3AAAAAElFTkSuQmCC",
      "text/plain": [
       "<Figure size 432x288 with 1 Axes>"
      ]
     },
     "metadata": {
      "needs_background": "light"
     },
     "output_type": "display_data"
    }
   ],
   "source": [
    "# games won / hour played\n",
    "games.groupby(games[\"createdAt\"].dt.hour).george_won.sum().plot(kind=\"bar\").set_title('Total games won / hour')"
   ]
  },
  {
   "cell_type": "code",
   "execution_count": 133,
   "metadata": {},
   "outputs": [
    {
     "data": {
      "text/plain": [
       "Text(0.5, 1.0, 'Total rating change by hour')"
      ]
     },
     "execution_count": 133,
     "metadata": {},
     "output_type": "execute_result"
    },
    {
     "data": {
      "image/png": "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",
      "text/plain": [
       "<Figure size 432x288 with 1 Axes>"
      ]
     },
     "metadata": {
      "needs_background": "light"
     },
     "output_type": "display_data"
    }
   ],
   "source": [
    "# total rating change by hour\n",
    "games.groupby(games[\"createdAt\"].dt.hour).gain_loss.sum().plot(kind=\"bar\").set_title('Total rating change by hour')"
   ]
  },
  {
   "cell_type": "code",
   "execution_count": 86,
   "metadata": {},
   "outputs": [
    {
     "data": {
      "text/plain": [
       "Text(0.5, 1.0, 'Average rating change by hour')"
      ]
     },
     "execution_count": 86,
     "metadata": {},
     "output_type": "execute_result"
    },
    {
     "data": {
      "image/png": "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",
      "text/plain": [
       "<Figure size 432x288 with 1 Axes>"
      ]
     },
     "metadata": {
      "needs_background": "light"
     },
     "output_type": "display_data"
    }
   ],
   "source": [
    "# average rating change by hour (?)\n",
    "games.groupby(games[\"createdAt\"].dt.hour).gain_loss.mean().plot(kind=\"bar\").set_title('Average rating change per hour')"
   ]
  },
  {
   "cell_type": "code",
   "execution_count": null,
   "metadata": {},
   "outputs": [],
   "source": []
  }
 ],
 "metadata": {
  "interpreter": {
   "hash": "6f031d87f92d32c4da1944d59b43473866a28aaa8f8c06ba2f337ac6e5565dc3"
  },
  "kernelspec": {
   "display_name": "Python 3.10.0 64-bit",
   "language": "python",
   "name": "python3"
  },
  "language_info": {
   "codemirror_mode": {
    "name": "ipython",
    "version": 3
   },
   "file_extension": ".py",
   "mimetype": "text/x-python",
   "name": "python",
   "nbconvert_exporter": "python",
   "pygments_lexer": "ipython3",
   "version": "3.10.0"
  },
  "orig_nbformat": 4
 },
 "nbformat": 4,
 "nbformat_minor": 2
}
